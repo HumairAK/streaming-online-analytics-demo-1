{
 "cells": [
  {
   "cell_type": "code",
   "execution_count": 54,
   "metadata": {
    "collapsed": true
   },
   "outputs": [],
   "source": [
    "import pandas\n",
    "import matplotlib\n",
    "import sys\n",
    "from random import random\n",
    "from operator import add\n",
    "import pyspark\n",
    "from pyspark.context import SparkContext\n",
    "from pyspark.sql import SparkSession, SQLContext\n",
    "\n",
    "spark = SparkSession.builder.master(\"local[*]\").getOrCreate()\n",
    "sc = spark.sparkContext"
   ]
  },
  {
   "cell_type": "code",
   "execution_count": 55,
   "metadata": {},
   "outputs": [
    {
     "name": "stdout",
     "output_type": "stream",
     "text": [
      "[u'{\"productId\":\"79169ffe-30e0-11e7-bf3b-9801a798fc8f\",\"count\":7}', u'{\"productId\":\"7916b318-30e0-11e7-ac7a-9801a798fc8f\",\"count\":11}', u'{\"productId\":\"79140276-30e0-11e7-9c4c-9801a798fc8f\",\"count\":5}', u'{\"productId\":\"79174b3e-30e0-11e7-a9eb-9801a798fc8f\",\"count\":8}', u'{\"productId\":\"79161a98-30e0-11e7-b4e8-9801a798fc8f\",\"count\":5}', u'{\"productId\":\"79178130-30e0-11e7-8258-9801a798fc8f\",\"count\":7}', u'{\"productId\":\"7915d7f4-30e0-11e7-a752-9801a798fc8f\",\"count\":12}', u'{\"productId\":\"79166548-30e0-11e7-9285-9801a798fc8f\",\"count\":8}', u'{\"productId\":\"7915bf58-30e0-11e7-b2b6-9801a798fc8f\",\"count\":7}', u'{\"productId\":\"791605a8-30e0-11e7-b577-9801a798fc8f\",\"count\":8}', u'{\"productId\":\"7916c57e-30e0-11e7-8d97-9801a798fc8f\",\"count\":4}', u'{\"productId\":\"7917b4c0-30e0-11e7-80f0-9801a798fc8f\",\"count\":6}', u'{\"productId\":\"79176fec-30e0-11e7-84e4-9801a798fc8f\",\"count\":7}', u'{\"productId\":\"79173874-30e0-11e7-b64d-9801a798fc8f\",\"count\":8}', u'{\"productId\":\"7917a44c-30e0-11e7-89fd-9801a798fc8f\",\"count\":4}', u'{\"productId\":\"79170688-30e0-11e7-b43c-9801a798fc8f\",\"count\":8}', u'{\"productId\":\"79164400-30e0-11e7-b455-9801a798fc8f\",\"count\":2}', u'{\"productId\":\"7915f0cc-30e0-11e7-91c7-9801a798fc8f\",\"count\":7}', u'{\"productId\":\"7916efb8-30e0-11e7-bed7-9801a798fc8f\",\"count\":4}', u'{\"productId\":\"79175c5a-30e0-11e7-af55-9801a798fc8f\",\"count\":13}', u'{\"productId\":\"7916d9ba-30e0-11e7-b66f-9801a798fc8f\",\"count\":6}', u'{\"productId\":\"79172410-30e0-11e7-b8f7-9801a798fc8f\",\"count\":5}', u'{\"productId\":\"79152ade-30e0-11e7-b830-9801a798fc8f\",\"count\":8}', u'{\"productId\":\"79156878-30e0-11e7-be8c-9801a798fc8f\",\"count\":10}', u'{\"productId\":\"79159fc8-30e0-11e7-bf8c-9801a798fc8f\",\"count\":14}', u'{\"productId\":\"791793a8-30e0-11e7-8189-9801a798fc8f\",\"count\":6}', u'{\"productId\":\"79167768-30e0-11e7-aa4d-9801a798fc8f\",\"count\":10}', u'{\"productId\":\"79154ae6-30e0-11e7-a4e5-9801a798fc8f\",\"count\":9}', u'{\"productId\":\"791586f0-30e0-11e7-b25c-9801a798fc8f\",\"count\":8}', u'{\"productId\":\"79165436-30e0-11e7-b79a-9801a798fc8f\",\"count\":11}', u'{\"productId\":\"79163000-30e0-11e7-bb59-9801a798fc8f\",\"count\":7}']\n"
     ]
    }
   ],
   "source": [
    "orders=spark.read.load(\"hdfs://192.168.33.40:54310/orders/boston/warehouse\")\n",
    "orders.createOrReplaceTempView(\"bostonorders\")\n",
    "values=spark.sql(\"select * from bostonorders\")\n",
    "print(values.groupBy('productId').count().toJSON().collect())"
   ]
  },
  {
   "cell_type": "code",
   "execution_count": 56,
   "metadata": {},
   "outputs": [
    {
     "data": {
      "text/plain": [
       "event              235\n",
       "id                 235\n",
       "created              0\n",
       "customerId         235\n",
       "productId          235\n",
       "productQuantity    235\n",
       "dtype: int64"
      ]
     },
     "execution_count": 56,
     "metadata": {},
     "output_type": "execute_result"
    }
   ],
   "source": [
    "pandas=values.toPandas()\n",
    "pandas.count()"
   ]
  },
  {
   "cell_type": "code",
   "execution_count": 69,
   "metadata": {},
   "outputs": [
    {
     "data": {
      "text/html": [
       "<div>\n",
       "<table border=\"1\" class=\"dataframe\">\n",
       "  <thead>\n",
       "    <tr style=\"text-align: right;\">\n",
       "      <th></th>\n",
       "      <th>productId</th>\n",
       "      <th>count</th>\n",
       "    </tr>\n",
       "  </thead>\n",
       "  <tbody>\n",
       "    <tr>\n",
       "      <th>0</th>\n",
       "      <td>79169ffe-30e0-11e7-bf3b-9801a798fc8f</td>\n",
       "      <td>7</td>\n",
       "    </tr>\n",
       "    <tr>\n",
       "      <th>1</th>\n",
       "      <td>7916b318-30e0-11e7-ac7a-9801a798fc8f</td>\n",
       "      <td>11</td>\n",
       "    </tr>\n",
       "    <tr>\n",
       "      <th>2</th>\n",
       "      <td>79140276-30e0-11e7-9c4c-9801a798fc8f</td>\n",
       "      <td>5</td>\n",
       "    </tr>\n",
       "    <tr>\n",
       "      <th>3</th>\n",
       "      <td>79174b3e-30e0-11e7-a9eb-9801a798fc8f</td>\n",
       "      <td>8</td>\n",
       "    </tr>\n",
       "    <tr>\n",
       "      <th>4</th>\n",
       "      <td>79161a98-30e0-11e7-b4e8-9801a798fc8f</td>\n",
       "      <td>5</td>\n",
       "    </tr>\n",
       "    <tr>\n",
       "      <th>5</th>\n",
       "      <td>79178130-30e0-11e7-8258-9801a798fc8f</td>\n",
       "      <td>7</td>\n",
       "    </tr>\n",
       "    <tr>\n",
       "      <th>6</th>\n",
       "      <td>7915d7f4-30e0-11e7-a752-9801a798fc8f</td>\n",
       "      <td>12</td>\n",
       "    </tr>\n",
       "    <tr>\n",
       "      <th>7</th>\n",
       "      <td>79166548-30e0-11e7-9285-9801a798fc8f</td>\n",
       "      <td>8</td>\n",
       "    </tr>\n",
       "    <tr>\n",
       "      <th>8</th>\n",
       "      <td>7915bf58-30e0-11e7-b2b6-9801a798fc8f</td>\n",
       "      <td>7</td>\n",
       "    </tr>\n",
       "    <tr>\n",
       "      <th>9</th>\n",
       "      <td>791605a8-30e0-11e7-b577-9801a798fc8f</td>\n",
       "      <td>8</td>\n",
       "    </tr>\n",
       "    <tr>\n",
       "      <th>10</th>\n",
       "      <td>7916c57e-30e0-11e7-8d97-9801a798fc8f</td>\n",
       "      <td>4</td>\n",
       "    </tr>\n",
       "    <tr>\n",
       "      <th>11</th>\n",
       "      <td>7917b4c0-30e0-11e7-80f0-9801a798fc8f</td>\n",
       "      <td>6</td>\n",
       "    </tr>\n",
       "    <tr>\n",
       "      <th>12</th>\n",
       "      <td>79176fec-30e0-11e7-84e4-9801a798fc8f</td>\n",
       "      <td>7</td>\n",
       "    </tr>\n",
       "    <tr>\n",
       "      <th>13</th>\n",
       "      <td>79173874-30e0-11e7-b64d-9801a798fc8f</td>\n",
       "      <td>8</td>\n",
       "    </tr>\n",
       "    <tr>\n",
       "      <th>14</th>\n",
       "      <td>7917a44c-30e0-11e7-89fd-9801a798fc8f</td>\n",
       "      <td>4</td>\n",
       "    </tr>\n",
       "    <tr>\n",
       "      <th>15</th>\n",
       "      <td>79170688-30e0-11e7-b43c-9801a798fc8f</td>\n",
       "      <td>8</td>\n",
       "    </tr>\n",
       "    <tr>\n",
       "      <th>16</th>\n",
       "      <td>79164400-30e0-11e7-b455-9801a798fc8f</td>\n",
       "      <td>2</td>\n",
       "    </tr>\n",
       "    <tr>\n",
       "      <th>17</th>\n",
       "      <td>7915f0cc-30e0-11e7-91c7-9801a798fc8f</td>\n",
       "      <td>7</td>\n",
       "    </tr>\n",
       "    <tr>\n",
       "      <th>18</th>\n",
       "      <td>7916efb8-30e0-11e7-bed7-9801a798fc8f</td>\n",
       "      <td>4</td>\n",
       "    </tr>\n",
       "    <tr>\n",
       "      <th>19</th>\n",
       "      <td>79175c5a-30e0-11e7-af55-9801a798fc8f</td>\n",
       "      <td>13</td>\n",
       "    </tr>\n",
       "    <tr>\n",
       "      <th>20</th>\n",
       "      <td>7916d9ba-30e0-11e7-b66f-9801a798fc8f</td>\n",
       "      <td>6</td>\n",
       "    </tr>\n",
       "    <tr>\n",
       "      <th>21</th>\n",
       "      <td>79172410-30e0-11e7-b8f7-9801a798fc8f</td>\n",
       "      <td>5</td>\n",
       "    </tr>\n",
       "    <tr>\n",
       "      <th>22</th>\n",
       "      <td>79152ade-30e0-11e7-b830-9801a798fc8f</td>\n",
       "      <td>8</td>\n",
       "    </tr>\n",
       "    <tr>\n",
       "      <th>23</th>\n",
       "      <td>79156878-30e0-11e7-be8c-9801a798fc8f</td>\n",
       "      <td>10</td>\n",
       "    </tr>\n",
       "    <tr>\n",
       "      <th>24</th>\n",
       "      <td>79159fc8-30e0-11e7-bf8c-9801a798fc8f</td>\n",
       "      <td>14</td>\n",
       "    </tr>\n",
       "    <tr>\n",
       "      <th>25</th>\n",
       "      <td>791793a8-30e0-11e7-8189-9801a798fc8f</td>\n",
       "      <td>6</td>\n",
       "    </tr>\n",
       "    <tr>\n",
       "      <th>26</th>\n",
       "      <td>79167768-30e0-11e7-aa4d-9801a798fc8f</td>\n",
       "      <td>10</td>\n",
       "    </tr>\n",
       "    <tr>\n",
       "      <th>27</th>\n",
       "      <td>79154ae6-30e0-11e7-a4e5-9801a798fc8f</td>\n",
       "      <td>9</td>\n",
       "    </tr>\n",
       "    <tr>\n",
       "      <th>28</th>\n",
       "      <td>791586f0-30e0-11e7-b25c-9801a798fc8f</td>\n",
       "      <td>8</td>\n",
       "    </tr>\n",
       "    <tr>\n",
       "      <th>29</th>\n",
       "      <td>79165436-30e0-11e7-b79a-9801a798fc8f</td>\n",
       "      <td>11</td>\n",
       "    </tr>\n",
       "    <tr>\n",
       "      <th>30</th>\n",
       "      <td>79163000-30e0-11e7-bb59-9801a798fc8f</td>\n",
       "      <td>7</td>\n",
       "    </tr>\n",
       "  </tbody>\n",
       "</table>\n",
       "</div>"
      ],
      "text/plain": [
       "                               productId  count\n",
       "0   79169ffe-30e0-11e7-bf3b-9801a798fc8f      7\n",
       "1   7916b318-30e0-11e7-ac7a-9801a798fc8f     11\n",
       "2   79140276-30e0-11e7-9c4c-9801a798fc8f      5\n",
       "3   79174b3e-30e0-11e7-a9eb-9801a798fc8f      8\n",
       "4   79161a98-30e0-11e7-b4e8-9801a798fc8f      5\n",
       "5   79178130-30e0-11e7-8258-9801a798fc8f      7\n",
       "6   7915d7f4-30e0-11e7-a752-9801a798fc8f     12\n",
       "7   79166548-30e0-11e7-9285-9801a798fc8f      8\n",
       "8   7915bf58-30e0-11e7-b2b6-9801a798fc8f      7\n",
       "9   791605a8-30e0-11e7-b577-9801a798fc8f      8\n",
       "10  7916c57e-30e0-11e7-8d97-9801a798fc8f      4\n",
       "11  7917b4c0-30e0-11e7-80f0-9801a798fc8f      6\n",
       "12  79176fec-30e0-11e7-84e4-9801a798fc8f      7\n",
       "13  79173874-30e0-11e7-b64d-9801a798fc8f      8\n",
       "14  7917a44c-30e0-11e7-89fd-9801a798fc8f      4\n",
       "15  79170688-30e0-11e7-b43c-9801a798fc8f      8\n",
       "16  79164400-30e0-11e7-b455-9801a798fc8f      2\n",
       "17  7915f0cc-30e0-11e7-91c7-9801a798fc8f      7\n",
       "18  7916efb8-30e0-11e7-bed7-9801a798fc8f      4\n",
       "19  79175c5a-30e0-11e7-af55-9801a798fc8f     13\n",
       "20  7916d9ba-30e0-11e7-b66f-9801a798fc8f      6\n",
       "21  79172410-30e0-11e7-b8f7-9801a798fc8f      5\n",
       "22  79152ade-30e0-11e7-b830-9801a798fc8f      8\n",
       "23  79156878-30e0-11e7-be8c-9801a798fc8f     10\n",
       "24  79159fc8-30e0-11e7-bf8c-9801a798fc8f     14\n",
       "25  791793a8-30e0-11e7-8189-9801a798fc8f      6\n",
       "26  79167768-30e0-11e7-aa4d-9801a798fc8f     10\n",
       "27  79154ae6-30e0-11e7-a4e5-9801a798fc8f      9\n",
       "28  791586f0-30e0-11e7-b25c-9801a798fc8f      8\n",
       "29  79165436-30e0-11e7-b79a-9801a798fc8f     11\n",
       "30  79163000-30e0-11e7-bb59-9801a798fc8f      7"
      ]
     },
     "execution_count": 69,
     "metadata": {},
     "output_type": "execute_result"
    }
   ],
   "source": [
    "plt.figure()\n",
    "p=values.groupBy('productId').count().toPandas()\n",
    "p"
   ]
  },
  {
   "cell_type": "code",
   "execution_count": 76,
   "metadata": {},
   "outputs": [
    {
     "data": {
      "image/png": "[encoded data removed]",
      "text/plain": [
       "<matplotlib.figure.Figure at 0x7f06ebe64890>"
      ]
     },
     "metadata": {},
     "output_type": "display_data"
    }
   ],
   "source": [
    "p.plot(kind='area')\n",
    "plt.show()"
   ]
  }
 ],
 "metadata": {
  "kernelspec": {
   "display_name": "Python 2",
   "language": "python",
   "name": "python2"
  },
  "language_info": {
   "codemirror_mode": {
    "name": "ipython",
    "version": 2
   },
   "file_extension": ".py",
   "mimetype": "text/x-python",
   "name": "python",
   "nbconvert_exporter": "python",
   "pygments_lexer": "ipython2",
   "version": "2.7.13"
  }
 },
 "nbformat": 4,
 "nbformat_minor": 2
}
